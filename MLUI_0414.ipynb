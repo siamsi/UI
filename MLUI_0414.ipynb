{
 "cells": [
  {
   "cell_type": "code",
   "execution_count": 1,
   "metadata": {},
   "outputs": [],
   "source": [
    "import os\n",
    "os.environ['CUDA_VISIBLE_DEVICES'] = '0'\n",
    "import cv2\n",
    "import numpy as np\n",
    "import pandas as pd\n",
    "import random\n",
    "import time\n",
    "import shutil\n",
    "import cv2\n",
    "import tqdm\n",
    "import tensorflow as tf\n",
    "from yolov3.yolov4 import Create_Yolo\n",
    "from yolov3.utils import detect_image\n",
    "from yolov3.configs import *\n",
    "\n",
    "import gradio as gr\n",
    "import cv2 as cv\n",
    "import os\n",
    "from PIL import Image\n",
    "from io import BytesIO\n",
    "import requests\n",
    "import base64\n",
    "import pybase64"
   ]
  },
  {
   "cell_type": "code",
   "execution_count": 2,
   "metadata": {},
   "outputs": [
    {
     "data": {
      "text/plain": [
       "<tensorflow.python.checkpoint.checkpoint.CheckpointLoadStatus at 0x7f730c2fd910>"
      ]
     },
     "execution_count": 2,
     "metadata": {},
     "output_type": "execute_result"
    }
   ],
   "source": [
    "de=tf.config.experimental.list_physical_devices('GPU')\n",
    "tf.config.experimental.set_virtual_device_configuration(de[0], [tf.config.experimental.VirtualDeviceConfiguration(memory_limit=1024)])\n",
    "\n",
    "yolo = Create_Yolo(input_size=YOLO_INPUT_SIZE, CLASSES=TRAIN_CLASSES)\n",
    "yolo.load_weights(f\"./checkpoints/{TRAIN_MODEL_NAME}\") # use keras weights"
   ]
  },
  {
   "cell_type": "code",
   "execution_count": 3,
   "metadata": {
    "scrolled": true
   },
   "outputs": [
    {
     "name": "stderr",
     "output_type": "stream",
     "text": [
      "/home/nrdc/.local/lib/python3.8/site-packages/gradio/components/gallery.py:205: UserWarning: The `style` method is deprecated. Please set these arguments in the constructor instead.\n",
      "  warnings.warn(\n",
      "/home/nrdc/.local/lib/python3.8/site-packages/gradio/components/gallery.py:209: UserWarning: The 'grid' parameter will be deprecated. Please use 'grid_cols' in the constructor instead.\n",
      "  warnings.warn(\n",
      "/home/nrdc/.local/lib/python3.8/site-packages/gradio/outputs.py:43: UserWarning: Usage of gradio.outputs is deprecated, and will not be supported in the future, please import your components from gradio.components\n",
      "  warnings.warn(\n",
      "/home/nrdc/.local/lib/python3.8/site-packages/gradio/components/image.py:390: UserWarning: The `style` method is deprecated. Please set these arguments in the constructor instead.\n",
      "  warnings.warn(\n"
     ]
    },
    {
     "name": "stdout",
     "output_type": "stream",
     "text": [
      "Running on local URL:  http://127.0.0.1:7860\n",
      "\n",
      "To create a public link, set `share=True` in `launch()`.\n"
     ]
    },
    {
     "data": {
      "text/html": [
       "<div><iframe src=\"http://127.0.0.1:7860/\" width=\"100%\" height=\"500\" allow=\"autoplay; camera; microphone; clipboard-read; clipboard-write;\" frameborder=\"0\" allowfullscreen></iframe></div>"
      ],
      "text/plain": [
       "<IPython.core.display.HTML object>"
      ]
     },
     "metadata": {},
     "output_type": "display_data"
    },
    {
     "data": {
      "text/plain": []
     },
     "execution_count": 3,
     "metadata": {},
     "output_type": "execute_result"
    },
    {
     "name": "stdout",
     "output_type": "stream",
     "text": [
      "(1, 416, 416, 3)\n",
      "(1, 416, 416, 3)\n"
     ]
    },
    {
     "name": "stderr",
     "output_type": "stream",
     "text": [
      "Traceback (most recent call last):\n",
      "  File \"/home/nrdc/.local/lib/python3.8/site-packages/urllib3/connection.py\", line 174, in _new_conn\n",
      "    conn = connection.create_connection(\n",
      "  File \"/home/nrdc/.local/lib/python3.8/site-packages/urllib3/util/connection.py\", line 95, in create_connection\n",
      "    raise err\n",
      "  File \"/home/nrdc/.local/lib/python3.8/site-packages/urllib3/util/connection.py\", line 85, in create_connection\n",
      "    sock.connect(sa)\n",
      "TimeoutError: [Errno 110] Connection timed out\n",
      "\n",
      "During handling of the above exception, another exception occurred:\n",
      "\n",
      "Traceback (most recent call last):\n",
      "  File \"/home/nrdc/.local/lib/python3.8/site-packages/urllib3/connectionpool.py\", line 714, in urlopen\n",
      "    httplib_response = self._make_request(\n",
      "  File \"/home/nrdc/.local/lib/python3.8/site-packages/urllib3/connectionpool.py\", line 415, in _make_request\n",
      "    conn.request(method, url, **httplib_request_kw)\n",
      "  File \"/home/nrdc/.local/lib/python3.8/site-packages/urllib3/connection.py\", line 244, in request\n",
      "    super(HTTPConnection, self).request(method, url, body=body, headers=headers)\n",
      "  File \"/home/nrdc/anaconda3/lib/python3.8/http/client.py\", line 1240, in request\n",
      "    self._send_request(method, url, body, headers, encode_chunked)\n",
      "  File \"/home/nrdc/anaconda3/lib/python3.8/http/client.py\", line 1286, in _send_request\n",
      "    self.endheaders(body, encode_chunked=encode_chunked)\n",
      "  File \"/home/nrdc/anaconda3/lib/python3.8/http/client.py\", line 1235, in endheaders\n",
      "    self._send_output(message_body, encode_chunked=encode_chunked)\n",
      "  File \"/home/nrdc/anaconda3/lib/python3.8/http/client.py\", line 1006, in _send_output\n",
      "    self.send(msg)\n",
      "  File \"/home/nrdc/anaconda3/lib/python3.8/http/client.py\", line 946, in send\n",
      "    self.connect()\n",
      "  File \"/home/nrdc/.local/lib/python3.8/site-packages/urllib3/connection.py\", line 205, in connect\n",
      "    conn = self._new_conn()\n",
      "  File \"/home/nrdc/.local/lib/python3.8/site-packages/urllib3/connection.py\", line 186, in _new_conn\n",
      "    raise NewConnectionError(\n",
      "urllib3.exceptions.NewConnectionError: <urllib3.connection.HTTPConnection object at 0x7f730c27e640>: Failed to establish a new connection: [Errno 110] Connection timed out\n",
      "\n",
      "During handling of the above exception, another exception occurred:\n",
      "\n",
      "Traceback (most recent call last):\n",
      "  File \"/home/nrdc/.local/lib/python3.8/site-packages/requests/adapters.py\", line 489, in send\n",
      "    resp = conn.urlopen(\n",
      "  File \"/home/nrdc/.local/lib/python3.8/site-packages/urllib3/connectionpool.py\", line 798, in urlopen\n",
      "    retries = retries.increment(\n",
      "  File \"/home/nrdc/.local/lib/python3.8/site-packages/urllib3/util/retry.py\", line 592, in increment\n",
      "    raise MaxRetryError(_pool, url, error or ResponseError(cause))\n",
      "urllib3.exceptions.MaxRetryError: HTTPConnectionPool(host='172.19.8.222', port=11000): Max retries exceeded with url: /plate_ocr (Caused by NewConnectionError('<urllib3.connection.HTTPConnection object at 0x7f730c27e640>: Failed to establish a new connection: [Errno 110] Connection timed out'))\n",
      "\n",
      "During handling of the above exception, another exception occurred:\n",
      "\n",
      "Traceback (most recent call last):\n",
      "  File \"/home/nrdc/.local/lib/python3.8/site-packages/gradio/routes.py\", line 437, in run_predict\n",
      "    output = await app.get_blocks().process_api(\n",
      "  File \"/home/nrdc/.local/lib/python3.8/site-packages/gradio/blocks.py\", line 1352, in process_api\n",
      "    result = await self.call_function(\n",
      "  File \"/home/nrdc/.local/lib/python3.8/site-packages/gradio/blocks.py\", line 1077, in call_function\n",
      "    prediction = await anyio.to_thread.run_sync(\n",
      "  File \"/home/nrdc/.local/lib/python3.8/site-packages/anyio/to_thread.py\", line 31, in run_sync\n",
      "    return await get_asynclib().run_sync_in_worker_thread(\n",
      "  File \"/home/nrdc/.local/lib/python3.8/site-packages/anyio/_backends/_asyncio.py\", line 937, in run_sync_in_worker_thread\n",
      "    return await future\n",
      "  File \"/home/nrdc/.local/lib/python3.8/site-packages/anyio/_backends/_asyncio.py\", line 867, in run\n",
      "    result = context.run(func, *args)\n",
      "  File \"<ipython-input-3-cd146d666ac8>\", line 23, in get_selected_image\n",
      "    response = requests.get(url_inference, json=data)\n",
      "  File \"/home/nrdc/.local/lib/python3.8/site-packages/requests/api.py\", line 73, in get\n",
      "    return request(\"get\", url, params=params, **kwargs)\n",
      "  File \"/home/nrdc/.local/lib/python3.8/site-packages/requests/api.py\", line 59, in request\n",
      "    return session.request(method=method, url=url, **kwargs)\n",
      "  File \"/home/nrdc/.local/lib/python3.8/site-packages/requests/sessions.py\", line 587, in request\n",
      "    resp = self.send(prep, **send_kwargs)\n",
      "  File \"/home/nrdc/.local/lib/python3.8/site-packages/requests/sessions.py\", line 701, in send\n",
      "    r = adapter.send(request, **kwargs)\n",
      "  File \"/home/nrdc/.local/lib/python3.8/site-packages/requests/adapters.py\", line 565, in send\n",
      "    raise ConnectionError(e, request=request)\n",
      "requests.exceptions.ConnectionError: HTTPConnectionPool(host='172.19.8.222', port=11000): Max retries exceeded with url: /plate_ocr (Caused by NewConnectionError('<urllib3.connection.HTTPConnection object at 0x7f730c27e640>: Failed to establish a new connection: [Errno 110] Connection timed out'))\n"
     ]
    }
   ],
   "source": [
    "path_cars= r'/home/nrdc/UI/data_test_segmentPlate'\n",
    "url_inference= 'http://172.19.8.222:11000/plate_ocr'\n",
    "def get_selected_image(evt:gr.SelectData):\n",
    "    image_path= os.path.join(path_cars, os.listdir(path_cars)[evt.index])\n",
    "    results=detect_image(yolo, image_path, input_size=YOLO_INPUT_SIZE, \n",
    "                         show=False, CLASSES=TRAIN_CLASSES,\n",
    "                         rectangle_colors=(255,0,0))\n",
    "    \n",
    "    if len(results)==0:\n",
    "        inferenced= 'پلاکی در تصویر یافت نشد'\n",
    "        img= np.zeros((1, 1, 3))\n",
    "    else:\n",
    "        cv.imwrite('x.jpg', results[0])\n",
    "        with open('x.jpg', \"rb\") as imageFile:\n",
    "            img_base64 = pybase64.b64encode(imageFile.read())\n",
    "        img_base64_to_str = img_base64.decode('utf-8')\n",
    "        \n",
    "        data = {\n",
    "            'req_id': image_path,\n",
    "            'vehicle_1': img_base64_to_str\n",
    "        }\n",
    "        \n",
    "        response = requests.get(url_inference, json=data)\n",
    "        inferenced= response.json()['ocr_result']\n",
    "        img= cv.cvtColor(results[0], cv.COLOR_BGR2RGB)\n",
    "        \n",
    "    return inferenced, img\n",
    "\n",
    "title= 'سامانه تقطیع و تشخیص پلاک ترانزیت پژوهش و توسعه ناجی'\n",
    "with gr.Blocks(theme='HaleyCH/HaleyCH_Theme', title= title) as demo:\n",
    "# with gr.Blocks(title= title) as demo:\n",
    "\n",
    "    with gr.Row():\n",
    "        with gr.Column():\n",
    "            pass\n",
    "        with gr.Column():\n",
    "            txt= gr.Textbox(label=title, scale=2)\n",
    "        with gr.Column():\n",
    "            pass\n",
    "    list_images= [os.path.join(path_cars, file) for file in os.listdir(path_cars)]\n",
    "    glry= gr.Gallery(value=list_images).style(grid=4, height='auto', selectable=True)\n",
    "    \n",
    "    txt= gr.Textbox(label=\"پیش بینی مدل\")\n",
    "    seg = gr.outputs.Image(type='numpy', label='پلاک سگمنت شده').style(full_width=False, height=180)\n",
    "    glry.select(get_selected_image,outputs=[txt, seg])\n",
    "        \n",
    "demo.queue().launch()"
   ]
  },
  {
   "cell_type": "code",
   "execution_count": null,
   "metadata": {},
   "outputs": [],
   "source": []
  }
 ],
 "metadata": {
  "kernelspec": {
   "display_name": "Python 3",
   "language": "python",
   "name": "python3"
  },
  "language_info": {
   "codemirror_mode": {
    "name": "ipython",
    "version": 3
   },
   "file_extension": ".py",
   "mimetype": "text/x-python",
   "name": "python",
   "nbconvert_exporter": "python",
   "pygments_lexer": "ipython3",
   "version": "3.8.3"
  }
 },
 "nbformat": 4,
 "nbformat_minor": 4
}
